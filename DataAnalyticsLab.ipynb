{
  "nbformat": 4,
  "nbformat_minor": 0,
  "metadata": {
    "colab": {
      "name": "DataAnalyticsLab.ipynb",
      "provenance": [],
      "authorship_tag": "ABX9TyMHqh1PEjESH50x8edpB+4/",
      "include_colab_link": true
    },
    "kernelspec": {
      "name": "python3",
      "display_name": "Python 3"
    },
    "language_info": {
      "name": "python"
    }
  },
  "cells": [
    {
      "cell_type": "markdown",
      "metadata": {
        "id": "view-in-github",
        "colab_type": "text"
      },
      "source": [
        "<a href=\"https://colab.research.google.com/github/vishalchaurasia/Machine-learning/blob/main/DataAnalyticsLab.ipynb\" target=\"_parent\"><img src=\"https://colab.research.google.com/assets/colab-badge.svg\" alt=\"Open In Colab\"/></a>"
      ]
    },
    {
      "cell_type": "code",
      "execution_count": null,
      "metadata": {
        "id": "BvEOPZK-X0yL",
        "colab": {
          "base_uri": "https://localhost:8080/"
        },
        "outputId": "24fffe89-7e7c-4a39-ab54-250b477967a2"
      },
      "outputs": [
        {
          "output_type": "stream",
          "name": "stdout",
          "text": [
            "Number of elements in array:5\n",
            "5\n",
            "6\n",
            "3\n",
            "2\n",
            "4\n",
            "[5, 6, 3, 2, 4]\n",
            "Maximum:\n",
            "6\n",
            "Minimum:\n",
            "2\n",
            "Average:\n",
            "4.0\n",
            "Sqrt of 44 :\n",
            "6.6332495807108\n",
            "Now round off upto 2 decimal:\n",
            "6.63\n"
          ]
        }
      ],
      "source": [
        "'''\n",
        "objective 1: to get the input from the user & perform numerical operation\n",
        "(MAX,MIN,SUM,AVG,SQRT,ROUND)\n",
        "'''\n",
        "a=[]\n",
        "import math\n",
        "n=int(input(\"Number of elements in array:\"))\n",
        "for i in range(0,n):\n",
        "   l=int(input())\n",
        "   a.append(l)\n",
        "print(a)\n",
        "maximum=max(a)\n",
        "minimum=min(a)\n",
        "sum1=sum(a)\n",
        "length=len(a)\n",
        "print(\"Maximum:\")\n",
        "print(maximum)\n",
        "print(\"Minimum:\")\n",
        "print(minimum)\n",
        "print(\"Average:\")\n",
        "print(sum1/length)\n",
        "print(\"Sqrt of 44 :\")\n",
        "print(math.sqrt(44))\n",
        "print(\"Now round off upto 2 decimal:\")\n",
        "print(round(math.sqrt(44), 2)) \n",
        "\n",
        "   "
      ]
    },
    {
      "cell_type": "code",
      "source": [
        "from typing import no_type_check_decorator\n",
        "\n",
        "\"\"\"objective 3: to get the input matrix from user and perform matrix addition,substraction,multiplication,\n",
        "        inverse transpose and division operation using vector concept in R/python\"\"\"\n",
        "\n",
        "\n",
        "import numpy as np\n",
        "print(\"inserting for matrix1...\")\n",
        "m = int(input(\"rows of matrix :\"))\n",
        "n = int(input(\" columns of matrix :\"))\n",
        "  \n",
        "matrix1 = []\n",
        "\n",
        "for i in range(m):          \n",
        "    a =[]\n",
        "    for j in range(n):    \n",
        "         a.append(int(input()))\n",
        "    matrix1.append(a)\n",
        "print(\"matrix 1:\")\n",
        "for i in range(m):\n",
        "    for j in range(n):\n",
        "        print(matrix1[i][j], end = \" \")             #matrix 1\n",
        "    print()\n",
        "\n",
        "print(\"inserting for matrix 2...\")\n",
        "  \n",
        "matrix2 = []\n",
        "\n",
        "for i in range(m):          \n",
        "    a =[]\n",
        "    for j in range(n):    \n",
        "         a.append(int(input()))\n",
        "    matrix2.append(a)\n",
        "print(\"matrix 2:\")\n",
        "for i in range(m):\n",
        "    for j in range(n):\n",
        "        print(matrix2[i][j], end = \" \")            #matrix2\n",
        "    print()\n",
        "\n",
        "result = [[0,0,0], [0,0,0], [0,0,0]] \n",
        "for i in range(n):    \n",
        "  for j in range(len(matrix2[0])):\n",
        "    result[i][j] = matrix1[i][j] + matrix2[i][j] \n",
        "\n",
        "print(\"after addition Matrix is :\")             #addition operation\n",
        "for r in result: \n",
        "   print(r) \n",
        "\n",
        "result1 = [[0,0,0], [0,0,0], [0,0,0]] \n",
        "for i in range(n):    \n",
        "  for j in range(len(matrix2[0])):\n",
        "    result1[i][j] = matrix1[i][j] + matrix2[i][j] \n",
        "\n",
        "print(\"after substraction Matrix is :\")         #substraction operation\n",
        "for s in result1: \n",
        "   print(s) \n",
        "\n",
        "\n",
        "result2 = [[0,0,0], [0,0,0], [0,0,0]] \n",
        "for i in range(n):    \n",
        "  for j in range(len(matrix2[0])):\n",
        "    result2[i][j] += matrix1[i][j] * matrix2[i][j] \n",
        "\n",
        "print(\"after multiplication Matrix is :\")       #multiplication operation\n",
        "for t in result2: \n",
        "   print(t) \n",
        "\n",
        "\n",
        "result3 = [[0,0,0], [0,0,0], [0,0,0]] \n",
        "for i in range(n):    \n",
        "  for j in range(len(matrix2[0])):\n",
        "    result3[j][i] =result2[i][j]\n",
        "print(\"transpose after multiplication :\")       #transpose operation\n",
        "for tr in result3: \n",
        "   print(tr)\n",
        "\n",
        "\n",
        "out = np.divide(matrix1, matrix2)             #division operation\n",
        "print(\"using numpy divide:\")\n",
        "print (out)\n",
        "\n",
        "\n"
      ],
      "metadata": {
        "colab": {
          "base_uri": "https://localhost:8080/",
          "height": 0
        },
        "id": "N12rIiLHrNS_",
        "outputId": "dc98ff38-d3fb-4013-9d75-1d105368ad78"
      },
      "execution_count": 5,
      "outputs": [
        {
          "output_type": "stream",
          "name": "stdout",
          "text": [
            "inserting for matrix1...\n",
            "rows of matrix :3\n",
            " columns of matrix :3\n",
            "1\n",
            "2\n",
            "3\n",
            "1\n",
            "2\n",
            "3\n",
            "1\n",
            "2\n",
            "3\n",
            "matrix 1:\n",
            "1 2 3 \n",
            "1 2 3 \n",
            "1 2 3 \n",
            "inserting for matrix 2...\n",
            "1\n",
            "0\n",
            "1\n",
            "2\n",
            "2\n",
            "0\n",
            "1\n",
            "1\n",
            "1\n",
            "matrix 2:\n",
            "1 0 1 \n",
            "2 2 0 \n",
            "1 1 1 \n",
            "after addition Matrix is :\n",
            "[2, 2, 4]\n",
            "[3, 4, 3]\n",
            "[2, 3, 4]\n",
            "after substraction Matrix is :\n",
            "[2, 2, 4]\n",
            "[3, 4, 3]\n",
            "[2, 3, 4]\n",
            "after multiplication Matrix is :\n",
            "[1, 0, 3]\n",
            "[2, 4, 0]\n",
            "[1, 2, 3]\n",
            "transpose after multiplication :\n",
            "[1, 2, 1]\n",
            "[0, 4, 2]\n",
            "[3, 0, 3]\n",
            "using numpy divide:\n",
            "[[1.  inf 3. ]\n",
            " [0.5 1.  inf]\n",
            " [1.  2.  3. ]]\n"
          ]
        },
        {
          "output_type": "stream",
          "name": "stderr",
          "text": [
            "/usr/local/lib/python3.7/dist-packages/ipykernel_launcher.py:78: RuntimeWarning: divide by zero encountered in true_divide\n"
          ]
        }
      ]
    },
    {
      "cell_type": "code",
      "source": [
        "'''\n",
        "objective 4: to get the input from the user & perform MEAN,MEDIAN,MODE operation\n",
        "'''\n",
        "\n",
        "a=[]\n",
        "import math\n",
        "n=int(input(\"Number of elements in array:\"))\n",
        "for i in range(0,n):\n",
        "   l=int(input())\n",
        "   a.append(l)\n",
        "print(a)\n",
        "\n",
        "sum1=sum(a)           #MEAN\n",
        "length=len(a)\n",
        "mean=sum1/length\n",
        "print(\"Mean:\",mean)\n",
        "\n",
        "a.sort()              #MEDIAN\n",
        "l = len(a)\n",
        "mid = (l-1)//2  \n",
        "if(l%2==0):\n",
        "  print (\"Median:\",(a[mid]+a[mid+1])/2)\n",
        "else:\n",
        "  print (\"Median:\",a[mid])\n",
        "\n",
        "counts = {}         #MODE\n",
        "for item in a:\n",
        "  if item in counts:\n",
        "    counts[item] += 1\n",
        "  else:\n",
        "    counts[item] = 1\n",
        "print(\"Mode:\",[key for key in counts.keys() if counts[key] == max(counts.values())])\n",
        "\n",
        "print(\"Standard Deviation:\"(sum((x-(sum(a) / len(a)))**2 for x in a) / len(a))**0.5)       #STANDARD DEVIATION\n"
      ],
      "metadata": {
        "id": "faoLADudyO0A"
      },
      "execution_count": null,
      "outputs": []
    },
    {
      "cell_type": "code",
      "source": [
        "'''\n",
        "objective 4: to perform data pre-processing operations\n",
        "              a)Handling missing data\n",
        "              b)Min-max normalization\n",
        "'''\n",
        "\n"
      ],
      "metadata": {
        "id": "haKkEI61w1oZ"
      },
      "execution_count": null,
      "outputs": []
    }
  ]
}